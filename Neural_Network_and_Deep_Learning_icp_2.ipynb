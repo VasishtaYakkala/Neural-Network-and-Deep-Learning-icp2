{
  "nbformat": 4,
  "nbformat_minor": 0,
  "metadata": {
    "colab": {
      "provenance": []
    },
    "kernelspec": {
      "name": "python3",
      "display_name": "Python 3"
    },
    "language_info": {
      "name": "python"
    }
  },
  "cells": [
    {
      "cell_type": "code",
      "execution_count": null,
      "metadata": {
        "colab": {
          "base_uri": "https://localhost:8080/"
        },
        "id": "C2vVRHGCXBe1",
        "outputId": "83b9d165-8b4a-4702-c15b-3a0b865e7cf2"
      },
      "outputs": [
        {
          "output_type": "stream",
          "name": "stdout",
          "text": [
            "Your First Name : vasishta\n",
            "Your Last Name : yakkala\n",
            "vasishtayakkala\n"
          ]
        }
      ],
      "source": [
        "First_name = ( input(\"Your First Name : \"))\n",
        "last_name = (input(\"Your Last Name : \"))\n",
        "Full_Name = print(First_name + last_name)"
      ]
    },
    {
      "cell_type": "code",
      "source": [
        "def string_alternative(Str):\n",
        "   output = \"\"\n",
        "   for a in range(len(Str)):\n",
        "       if a % 2 == 0:\n",
        "           output += Str[a]\n",
        "   return output\n",
        "print(string_alternative(\"Good evening\"))"
      ],
      "metadata": {
        "colab": {
          "base_uri": "https://localhost:8080/"
        },
        "id": "Wp2NRoviXaDt",
        "outputId": "cedf88fd-6438-458e-bf3c-6622aea6f477"
      },
      "execution_count": null,
      "outputs": [
        {
          "output_type": "stream",
          "name": "stdout",
          "text": [
            "Go vnn\n"
          ]
        }
      ]
    },
    {
      "cell_type": "code",
      "source": [
        "try:\n",
        "    file1 = open('input1.txt', 'r')\n",
        "except FileNotFoundError:\n",
        "    with open('input1.txt', 'w') as f:\n",
        "        f.write(\"Python Course Deep Learning Course\")\n",
        "    file1 = open('input1.txt', 'r')\n",
        "\n",
        "counts = dict()\n",
        "data = file1.read()\n",
        "words = data.split()\n",
        "for word in words:\n",
        "   if word in counts:\n",
        "       counts[word] += 1\n",
        "   else:\n",
        "       counts[word] = 1\n",
        "print(counts)"
      ],
      "metadata": {
        "colab": {
          "base_uri": "https://localhost:8080/"
        },
        "id": "-Jnuaa52aqMg",
        "outputId": "d8eeb4df-3b2b-4c19-84a7-ecc60b7b9839"
      },
      "execution_count": 12,
      "outputs": [
        {
          "output_type": "stream",
          "name": "stdout",
          "text": [
            "{'Python': 1, 'Course': 2, 'Deep': 1, 'Learning': 1}\n"
          ]
        }
      ]
    },
    {
      "cell_type": "code",
      "source": [
        "L1=list(map(float,input().split()))\n",
        "L2=[]\n",
        "for x in L1:\n",
        "   x=x*2.54\n",
        "   L2.append(x)\n",
        "print(L2)"
      ],
      "metadata": {
        "colab": {
          "base_uri": "https://localhost:8080/"
        },
        "id": "bK1z3j7BZ6RQ",
        "outputId": "38db53ff-a94b-401e-e965-14655792c70b"
      },
      "execution_count": 9,
      "outputs": [
        {
          "output_type": "stream",
          "name": "stdout",
          "text": [
            "150 155 145 148\n",
            "[381.0, 393.7, 368.3, 375.92]\n"
          ]
        }
      ]
    },
    {
      "cell_type": "code",
      "source": [
        "L1=list(map(float,input().split()))\n",
        "L2=[x*2.54 for x in L1]\n",
        "print(L2)"
      ],
      "metadata": {
        "colab": {
          "base_uri": "https://localhost:8080/"
        },
        "id": "Fb3RlKOwahp_",
        "outputId": "86e3ca81-3fcf-4ef3-c032-da258dfc9452"
      },
      "execution_count": 10,
      "outputs": [
        {
          "output_type": "stream",
          "name": "stdout",
          "text": [
            "150 155 145 148\n",
            "[381.0, 393.7, 368.3, 375.92]\n"
          ]
        }
      ]
    }
  ]
}